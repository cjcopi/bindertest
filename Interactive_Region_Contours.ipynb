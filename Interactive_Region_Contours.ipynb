{
 "cells": [
  {
   "cell_type": "markdown",
   "id": "ca33220c-c236-4cfb-a960-f55002356e3e",
   "metadata": {},
   "source": [
    "# Interactive Region Contours\n",
    "\n",
    "For the compact orientable manifolds $E_2$ through $E_5$ we can determine what fraction of observers in these inhomogeneous spaces would see circles for given topology scales.\n",
    "\n",
    "Run the following cell to interactively explore the fractions for these manifolds."
   ]
  },
  {
   "cell_type": "code",
   "execution_count": 1,
   "id": "1b17c42e-ea3f-4adc-9b57-aba486df7dcf",
   "metadata": {
    "tags": []
   },
   "outputs": [
    {
     "data": {
      "application/vnd.jupyter.widget-view+json": {
       "model_id": "5a4bb4d923874d1986664b9d5fc6fcad",
       "version_major": 2,
       "version_minor": 0
      },
      "text/plain": [
       "AppLayout(children=(VBox(children=(Dropdown(description='Manifold:', options=('E2square', 'E2rectangle', 'E2',…"
      ]
     },
     "metadata": {},
     "output_type": "display_data"
    }
   ],
   "source": [
    "%matplotlib widget\n",
    "from EuclideanManifolds import ManifoldPlotter\n",
    "\n",
    "mp = ManifoldPlotter()"
   ]
  },
  {
   "cell_type": "code",
   "execution_count": null,
   "id": "774fed2a-bbb8-49ee-9cbc-0c1f66ada8a2",
   "metadata": {},
   "outputs": [],
   "source": []
  }
 ],
 "metadata": {
  "kernelspec": {
   "display_name": "Python 3 (ipykernel)",
   "language": "python",
   "name": "python3"
  },
  "language_info": {
   "codemirror_mode": {
    "name": "ipython",
    "version": 3
   },
   "file_extension": ".py",
   "mimetype": "text/x-python",
   "name": "python",
   "nbconvert_exporter": "python",
   "pygments_lexer": "ipython3",
   "version": "3.11.5"
  }
 },
 "nbformat": 4,
 "nbformat_minor": 5
}
